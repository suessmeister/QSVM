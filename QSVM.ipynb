{
  "nbformat": 4,
  "nbformat_minor": 0,
  "metadata": {
    "colab": {
      "provenance": []
    },
    "kernelspec": {
      "name": "python3",
      "display_name": "Python 3"
    },
    "language_info": {
      "name": "python"
    }
  },
  "cells": [
    {
      "cell_type": "code",
      "source": [
        "%pip install qiskit_machine_learning"
      ],
      "metadata": {
        "colab": {
          "base_uri": "https://localhost:8080/"
        },
        "id": "ZDOBkhSg6bjy",
        "outputId": "c21ad1fa-162d-472a-fa51-d370f619e67a"
      },
      "execution_count": 1,
      "outputs": [
        {
          "output_type": "stream",
          "name": "stdout",
          "text": [
            "Collecting qiskit_machine_learning\n",
            "  Downloading qiskit_machine_learning-0.8.0-py3-none-any.whl.metadata (13 kB)\n",
            "Collecting qiskit>=1.0 (from qiskit_machine_learning)\n",
            "  Downloading qiskit-1.3.0-cp39-abi3-manylinux_2_17_x86_64.manylinux2014_x86_64.whl.metadata (12 kB)\n",
            "Requirement already satisfied: scipy>=1.4 in /usr/local/lib/python3.10/dist-packages (from qiskit_machine_learning) (1.13.1)\n",
            "Requirement already satisfied: numpy>=1.17 in /usr/local/lib/python3.10/dist-packages (from qiskit_machine_learning) (1.26.4)\n",
            "Requirement already satisfied: psutil>=5 in /usr/local/lib/python3.10/dist-packages (from qiskit_machine_learning) (5.9.5)\n",
            "Requirement already satisfied: scikit-learn>=1.2.0 in /usr/local/lib/python3.10/dist-packages (from qiskit_machine_learning) (1.5.2)\n",
            "Collecting fastdtw (from qiskit_machine_learning)\n",
            "  Downloading fastdtw-0.3.4.tar.gz (133 kB)\n",
            "\u001b[2K     \u001b[90m━━━━━━━━━━━━━━━━━━━━━━━━━━━━━━━━━━━━━━━━\u001b[0m \u001b[32m133.4/133.4 kB\u001b[0m \u001b[31m4.3 MB/s\u001b[0m eta \u001b[36m0:00:00\u001b[0m\n",
            "\u001b[?25h  Preparing metadata (setup.py) ... \u001b[?25l\u001b[?25hdone\n",
            "Requirement already satisfied: setuptools>=40.1.0 in /usr/local/lib/python3.10/dist-packages (from qiskit_machine_learning) (75.1.0)\n",
            "Collecting dill>=0.3.4 (from qiskit_machine_learning)\n",
            "  Downloading dill-0.3.9-py3-none-any.whl.metadata (10 kB)\n",
            "Collecting rustworkx>=0.15.0 (from qiskit>=1.0->qiskit_machine_learning)\n",
            "  Downloading rustworkx-0.15.1-cp38-abi3-manylinux_2_17_x86_64.manylinux2014_x86_64.whl.metadata (9.9 kB)\n",
            "Requirement already satisfied: sympy>=1.3 in /usr/local/lib/python3.10/dist-packages (from qiskit>=1.0->qiskit_machine_learning) (1.13.1)\n",
            "Requirement already satisfied: python-dateutil>=2.8.0 in /usr/local/lib/python3.10/dist-packages (from qiskit>=1.0->qiskit_machine_learning) (2.8.2)\n",
            "Collecting stevedore>=3.0.0 (from qiskit>=1.0->qiskit_machine_learning)\n",
            "  Downloading stevedore-5.4.0-py3-none-any.whl.metadata (2.3 kB)\n",
            "Requirement already satisfied: typing-extensions in /usr/local/lib/python3.10/dist-packages (from qiskit>=1.0->qiskit_machine_learning) (4.12.2)\n",
            "Collecting symengine<0.14,>=0.11 (from qiskit>=1.0->qiskit_machine_learning)\n",
            "  Downloading symengine-0.13.0-cp310-cp310-manylinux_2_17_x86_64.manylinux2014_x86_64.whl.metadata (1.2 kB)\n",
            "Requirement already satisfied: joblib>=1.2.0 in /usr/local/lib/python3.10/dist-packages (from scikit-learn>=1.2.0->qiskit_machine_learning) (1.4.2)\n",
            "Requirement already satisfied: threadpoolctl>=3.1.0 in /usr/local/lib/python3.10/dist-packages (from scikit-learn>=1.2.0->qiskit_machine_learning) (3.5.0)\n",
            "Requirement already satisfied: six>=1.5 in /usr/local/lib/python3.10/dist-packages (from python-dateutil>=2.8.0->qiskit>=1.0->qiskit_machine_learning) (1.16.0)\n",
            "Collecting pbr>=2.0.0 (from stevedore>=3.0.0->qiskit>=1.0->qiskit_machine_learning)\n",
            "  Downloading pbr-6.1.0-py2.py3-none-any.whl.metadata (3.4 kB)\n",
            "Requirement already satisfied: mpmath<1.4,>=1.1.0 in /usr/local/lib/python3.10/dist-packages (from sympy>=1.3->qiskit>=1.0->qiskit_machine_learning) (1.3.0)\n",
            "Downloading qiskit_machine_learning-0.8.0-py3-none-any.whl (237 kB)\n",
            "\u001b[2K   \u001b[90m━━━━━━━━━━━━━━━━━━━━━━━━━━━━━━━━━━━━━━━━\u001b[0m \u001b[32m237.5/237.5 kB\u001b[0m \u001b[31m15.3 MB/s\u001b[0m eta \u001b[36m0:00:00\u001b[0m\n",
            "\u001b[?25hDownloading dill-0.3.9-py3-none-any.whl (119 kB)\n",
            "\u001b[2K   \u001b[90m━━━━━━━━━━━━━━━━━━━━━━━━━━━━━━━━━━━━━━━━\u001b[0m \u001b[32m119.4/119.4 kB\u001b[0m \u001b[31m3.8 MB/s\u001b[0m eta \u001b[36m0:00:00\u001b[0m\n",
            "\u001b[?25hDownloading qiskit-1.3.0-cp39-abi3-manylinux_2_17_x86_64.manylinux2014_x86_64.whl (6.7 MB)\n",
            "\u001b[2K   \u001b[90m━━━━━━━━━━━━━━━━━━━━━━━━━━━━━━━━━━━━━━━━\u001b[0m \u001b[32m6.7/6.7 MB\u001b[0m \u001b[31m35.8 MB/s\u001b[0m eta \u001b[36m0:00:00\u001b[0m\n",
            "\u001b[?25hDownloading rustworkx-0.15.1-cp38-abi3-manylinux_2_17_x86_64.manylinux2014_x86_64.whl (2.0 MB)\n",
            "\u001b[2K   \u001b[90m━━━━━━━━━━━━━━━━━━━━━━━━━━━━━━━━━━━━━━━━\u001b[0m \u001b[32m2.0/2.0 MB\u001b[0m \u001b[31m22.2 MB/s\u001b[0m eta \u001b[36m0:00:00\u001b[0m\n",
            "\u001b[?25hDownloading stevedore-5.4.0-py3-none-any.whl (49 kB)\n",
            "\u001b[2K   \u001b[90m━━━━━━━━━━━━━━━━━━━━━━━━━━━━━━━━━━━━━━━━\u001b[0m \u001b[32m49.5/49.5 kB\u001b[0m \u001b[31m1.8 MB/s\u001b[0m eta \u001b[36m0:00:00\u001b[0m\n",
            "\u001b[?25hDownloading symengine-0.13.0-cp310-cp310-manylinux_2_17_x86_64.manylinux2014_x86_64.whl (49.7 MB)\n",
            "\u001b[2K   \u001b[90m━━━━━━━━━━━━━━━━━━━━━━━━━━━━━━━━━━━━━━━━\u001b[0m \u001b[32m49.7/49.7 MB\u001b[0m \u001b[31m9.1 MB/s\u001b[0m eta \u001b[36m0:00:00\u001b[0m\n",
            "\u001b[?25hDownloading pbr-6.1.0-py2.py3-none-any.whl (108 kB)\n",
            "\u001b[2K   \u001b[90m━━━━━━━━━━━━━━━━━━━━━━━━━━━━━━━━━━━━━━━━\u001b[0m \u001b[32m108.5/108.5 kB\u001b[0m \u001b[31m8.9 MB/s\u001b[0m eta \u001b[36m0:00:00\u001b[0m\n",
            "\u001b[?25hBuilding wheels for collected packages: fastdtw\n",
            "  Building wheel for fastdtw (setup.py) ... \u001b[?25l\u001b[?25hdone\n",
            "  Created wheel for fastdtw: filename=fastdtw-0.3.4-cp310-cp310-linux_x86_64.whl size=512552 sha256=ca8370530422983aca4a99758e2c9abab414f3f302ca77bd45941c98b0fd088a\n",
            "  Stored in directory: /root/.cache/pip/wheels/73/c8/f7/c25448dab74c3acf4848bc25d513c736bb93910277e1528ef4\n",
            "Successfully built fastdtw\n",
            "Installing collected packages: symengine, rustworkx, pbr, fastdtw, dill, stevedore, qiskit, qiskit_machine_learning\n",
            "Successfully installed dill-0.3.9 fastdtw-0.3.4 pbr-6.1.0 qiskit-1.3.0 qiskit_machine_learning-0.8.0 rustworkx-0.15.1 stevedore-5.4.0 symengine-0.13.0\n"
          ]
        }
      ]
    },
    {
      "cell_type": "code",
      "execution_count": 2,
      "metadata": {
        "id": "6_KFUKi_VsCA",
        "colab": {
          "base_uri": "https://localhost:8080/"
        },
        "outputId": "c0287ba6-489b-4ecb-95f4-7f1982791331"
      },
      "outputs": [
        {
          "output_type": "stream",
          "name": "stdout",
          "text": [
            "\u001b[2K   \u001b[90m━━━━━━━━━━━━━━━━━━━━━━━━━━━━━━━━━━━━━━━━\u001b[0m \u001b[32m12.3/12.3 MB\u001b[0m \u001b[31m30.7 MB/s\u001b[0m eta \u001b[36m0:00:00\u001b[0m\n",
            "\u001b[2K     \u001b[90m━━━━━━━━━━━━━━━━━━━━━━━━━━━━━━━━━━━━━━━━\u001b[0m \u001b[32m162.6/162.6 kB\u001b[0m \u001b[31m5.0 MB/s\u001b[0m eta \u001b[36m0:00:00\u001b[0m\n",
            "\u001b[?25h  Preparing metadata (setup.py) ... \u001b[?25l\u001b[?25hdone\n",
            "  Building wheel for pylatexenc (setup.py) ... \u001b[?25l\u001b[?25hdone\n"
          ]
        }
      ],
      "source": [
        "#In case you don't have qiskit, install it now\n",
        "%pip install qiskit --quiet\n",
        "%pip install qiskit-aer --quiet\n",
        "#Installing/upgrading pylatexenc seems to have fixed my mpl issue\n",
        "#If you try this and it doesn't work, try also restarting the runtime/kernel\n",
        "%pip install pylatexenc --quiet\n"
      ]
    },
    {
      "cell_type": "code",
      "source": [
        "#Let's go ahead and import all this stuff too\n",
        "from qiskit import QuantumCircuit, QuantumRegister, ClassicalRegister\n",
        "from qiskit_aer import Aer\n",
        "from qiskit.quantum_info import Statevector\n",
        "import numpy as np\n",
        "from qiskit.visualization import plot_histogram, plot_bloch_multivector"
      ],
      "metadata": {
        "id": "ZHXSKCWgJNmu"
      },
      "execution_count": 3,
      "outputs": []
    },
    {
      "cell_type": "code",
      "source": [
        "# using a real dataset\n",
        "from sklearn.datasets import load_iris\n",
        "from sklearn.preprocessing import MinMaxScaler, LabelEncoder\n",
        "from sklearn.svm import SVC\n",
        "from sklearn.model_selection import train_test_split\n",
        "from sklearn.metrics import accuracy_score\n",
        "from qiskit.circuit.library import ZZFeatureMap, ZFeatureMap, PauliFeatureMap\n",
        "import pandas as pd\n",
        "import seaborn as sns\n",
        "import time\n",
        "\n",
        "iris = load_iris()\n",
        "data = load_iris()"
      ],
      "metadata": {
        "id": "k12gDFfKKHg_"
      },
      "execution_count": 4,
      "outputs": []
    },
    {
      "cell_type": "code",
      "source": [
        "print(data.DESCR)"
      ],
      "metadata": {
        "colab": {
          "base_uri": "https://localhost:8080/"
        },
        "id": "90bog-MHRI40",
        "outputId": "70420901-90f7-4409-fee9-5da02ea5e5bc"
      },
      "execution_count": 5,
      "outputs": [
        {
          "output_type": "stream",
          "name": "stdout",
          "text": [
            ".. _iris_dataset:\n",
            "\n",
            "Iris plants dataset\n",
            "--------------------\n",
            "\n",
            "**Data Set Characteristics:**\n",
            "\n",
            ":Number of Instances: 150 (50 in each of three classes)\n",
            ":Number of Attributes: 4 numeric, predictive attributes and the class\n",
            ":Attribute Information:\n",
            "    - sepal length in cm\n",
            "    - sepal width in cm\n",
            "    - petal length in cm\n",
            "    - petal width in cm\n",
            "    - class:\n",
            "            - Iris-Setosa\n",
            "            - Iris-Versicolour\n",
            "            - Iris-Virginica\n",
            "\n",
            ":Summary Statistics:\n",
            "\n",
            "============== ==== ==== ======= ===== ====================\n",
            "                Min  Max   Mean    SD   Class Correlation\n",
            "============== ==== ==== ======= ===== ====================\n",
            "sepal length:   4.3  7.9   5.84   0.83    0.7826\n",
            "sepal width:    2.0  4.4   3.05   0.43   -0.4194\n",
            "petal length:   1.0  6.9   3.76   1.76    0.9490  (high!)\n",
            "petal width:    0.1  2.5   1.20   0.76    0.9565  (high!)\n",
            "============== ==== ==== ======= ===== ====================\n",
            "\n",
            ":Missing Attribute Values: None\n",
            ":Class Distribution: 33.3% for each of 3 classes.\n",
            ":Creator: R.A. Fisher\n",
            ":Donor: Michael Marshall (MARSHALL%PLU@io.arc.nasa.gov)\n",
            ":Date: July, 1988\n",
            "\n",
            "The famous Iris database, first used by Sir R.A. Fisher. The dataset is taken\n",
            "from Fisher's paper. Note that it's the same as in R, but not as in the UCI\n",
            "Machine Learning Repository, which has two wrong data points.\n",
            "\n",
            "This is perhaps the best known database to be found in the\n",
            "pattern recognition literature.  Fisher's paper is a classic in the field and\n",
            "is referenced frequently to this day.  (See Duda & Hart, for example.)  The\n",
            "data set contains 3 classes of 50 instances each, where each class refers to a\n",
            "type of iris plant.  One class is linearly separable from the other 2; the\n",
            "latter are NOT linearly separable from each other.\n",
            "\n",
            ".. dropdown:: References\n",
            "\n",
            "  - Fisher, R.A. \"The use of multiple measurements in taxonomic problems\"\n",
            "    Annual Eugenics, 7, Part II, 179-188 (1936); also in \"Contributions to\n",
            "    Mathematical Statistics\" (John Wiley, NY, 1950).\n",
            "  - Duda, R.O., & Hart, P.E. (1973) Pattern Classification and Scene Analysis.\n",
            "    (Q327.D83) John Wiley & Sons.  ISBN 0-471-22361-1.  See page 218.\n",
            "  - Dasarathy, B.V. (1980) \"Nosing Around the Neighborhood: A New System\n",
            "    Structure and Classification Rule for Recognition in Partially Exposed\n",
            "    Environments\".  IEEE Transactions on Pattern Analysis and Machine\n",
            "    Intelligence, Vol. PAMI-2, No. 1, 67-71.\n",
            "  - Gates, G.W. (1972) \"The Reduced Nearest Neighbor Rule\".  IEEE Transactions\n",
            "    on Information Theory, May 1972, 431-433.\n",
            "  - See also: 1988 MLC Proceedings, 54-64.  Cheeseman et al\"s AUTOCLASS II\n",
            "    conceptual clustering system finds 3 classes in the data.\n",
            "  - Many, many more ...\n",
            "\n"
          ]
        }
      ]
    },
    {
      "cell_type": "code",
      "source": [
        "# normalization of the features (classical ML stuff)\n",
        "features = MinMaxScaler().fit_transform(iris.data)\n",
        "\n",
        "# What does the data even look like?\n",
        "iris = pd.DataFrame(\n",
        "    data= np.c_[iris['data'], iris['target']],\n",
        "    columns= iris['feature_names'] + ['target']\n",
        "    )\n"
      ],
      "metadata": {
        "id": "c61ZnMBORnD3"
      },
      "execution_count": 6,
      "outputs": []
    },
    {
      "cell_type": "code",
      "source": [
        "print(features)"
      ],
      "metadata": {
        "colab": {
          "base_uri": "https://localhost:8080/"
        },
        "id": "nIqB2IrbZx-B",
        "outputId": "622de5d7-5a8f-4832-dd75-64a9a57cacd2"
      },
      "execution_count": 7,
      "outputs": [
        {
          "output_type": "stream",
          "name": "stdout",
          "text": [
            "[[0.22222222 0.625      0.06779661 0.04166667]\n",
            " [0.16666667 0.41666667 0.06779661 0.04166667]\n",
            " [0.11111111 0.5        0.05084746 0.04166667]\n",
            " [0.08333333 0.45833333 0.08474576 0.04166667]\n",
            " [0.19444444 0.66666667 0.06779661 0.04166667]\n",
            " [0.30555556 0.79166667 0.11864407 0.125     ]\n",
            " [0.08333333 0.58333333 0.06779661 0.08333333]\n",
            " [0.19444444 0.58333333 0.08474576 0.04166667]\n",
            " [0.02777778 0.375      0.06779661 0.04166667]\n",
            " [0.16666667 0.45833333 0.08474576 0.        ]\n",
            " [0.30555556 0.70833333 0.08474576 0.04166667]\n",
            " [0.13888889 0.58333333 0.10169492 0.04166667]\n",
            " [0.13888889 0.41666667 0.06779661 0.        ]\n",
            " [0.         0.41666667 0.01694915 0.        ]\n",
            " [0.41666667 0.83333333 0.03389831 0.04166667]\n",
            " [0.38888889 1.         0.08474576 0.125     ]\n",
            " [0.30555556 0.79166667 0.05084746 0.125     ]\n",
            " [0.22222222 0.625      0.06779661 0.08333333]\n",
            " [0.38888889 0.75       0.11864407 0.08333333]\n",
            " [0.22222222 0.75       0.08474576 0.08333333]\n",
            " [0.30555556 0.58333333 0.11864407 0.04166667]\n",
            " [0.22222222 0.70833333 0.08474576 0.125     ]\n",
            " [0.08333333 0.66666667 0.         0.04166667]\n",
            " [0.22222222 0.54166667 0.11864407 0.16666667]\n",
            " [0.13888889 0.58333333 0.15254237 0.04166667]\n",
            " [0.19444444 0.41666667 0.10169492 0.04166667]\n",
            " [0.19444444 0.58333333 0.10169492 0.125     ]\n",
            " [0.25       0.625      0.08474576 0.04166667]\n",
            " [0.25       0.58333333 0.06779661 0.04166667]\n",
            " [0.11111111 0.5        0.10169492 0.04166667]\n",
            " [0.13888889 0.45833333 0.10169492 0.04166667]\n",
            " [0.30555556 0.58333333 0.08474576 0.125     ]\n",
            " [0.25       0.875      0.08474576 0.        ]\n",
            " [0.33333333 0.91666667 0.06779661 0.04166667]\n",
            " [0.16666667 0.45833333 0.08474576 0.04166667]\n",
            " [0.19444444 0.5        0.03389831 0.04166667]\n",
            " [0.33333333 0.625      0.05084746 0.04166667]\n",
            " [0.16666667 0.66666667 0.06779661 0.        ]\n",
            " [0.02777778 0.41666667 0.05084746 0.04166667]\n",
            " [0.22222222 0.58333333 0.08474576 0.04166667]\n",
            " [0.19444444 0.625      0.05084746 0.08333333]\n",
            " [0.05555556 0.125      0.05084746 0.08333333]\n",
            " [0.02777778 0.5        0.05084746 0.04166667]\n",
            " [0.19444444 0.625      0.10169492 0.20833333]\n",
            " [0.22222222 0.75       0.15254237 0.125     ]\n",
            " [0.13888889 0.41666667 0.06779661 0.08333333]\n",
            " [0.22222222 0.75       0.10169492 0.04166667]\n",
            " [0.08333333 0.5        0.06779661 0.04166667]\n",
            " [0.27777778 0.70833333 0.08474576 0.04166667]\n",
            " [0.19444444 0.54166667 0.06779661 0.04166667]\n",
            " [0.75       0.5        0.62711864 0.54166667]\n",
            " [0.58333333 0.5        0.59322034 0.58333333]\n",
            " [0.72222222 0.45833333 0.66101695 0.58333333]\n",
            " [0.33333333 0.125      0.50847458 0.5       ]\n",
            " [0.61111111 0.33333333 0.61016949 0.58333333]\n",
            " [0.38888889 0.33333333 0.59322034 0.5       ]\n",
            " [0.55555556 0.54166667 0.62711864 0.625     ]\n",
            " [0.16666667 0.16666667 0.38983051 0.375     ]\n",
            " [0.63888889 0.375      0.61016949 0.5       ]\n",
            " [0.25       0.29166667 0.49152542 0.54166667]\n",
            " [0.19444444 0.         0.42372881 0.375     ]\n",
            " [0.44444444 0.41666667 0.54237288 0.58333333]\n",
            " [0.47222222 0.08333333 0.50847458 0.375     ]\n",
            " [0.5        0.375      0.62711864 0.54166667]\n",
            " [0.36111111 0.375      0.44067797 0.5       ]\n",
            " [0.66666667 0.45833333 0.57627119 0.54166667]\n",
            " [0.36111111 0.41666667 0.59322034 0.58333333]\n",
            " [0.41666667 0.29166667 0.52542373 0.375     ]\n",
            " [0.52777778 0.08333333 0.59322034 0.58333333]\n",
            " [0.36111111 0.20833333 0.49152542 0.41666667]\n",
            " [0.44444444 0.5        0.6440678  0.70833333]\n",
            " [0.5        0.33333333 0.50847458 0.5       ]\n",
            " [0.55555556 0.20833333 0.66101695 0.58333333]\n",
            " [0.5        0.33333333 0.62711864 0.45833333]\n",
            " [0.58333333 0.375      0.55932203 0.5       ]\n",
            " [0.63888889 0.41666667 0.57627119 0.54166667]\n",
            " [0.69444444 0.33333333 0.6440678  0.54166667]\n",
            " [0.66666667 0.41666667 0.6779661  0.66666667]\n",
            " [0.47222222 0.375      0.59322034 0.58333333]\n",
            " [0.38888889 0.25       0.42372881 0.375     ]\n",
            " [0.33333333 0.16666667 0.47457627 0.41666667]\n",
            " [0.33333333 0.16666667 0.45762712 0.375     ]\n",
            " [0.41666667 0.29166667 0.49152542 0.45833333]\n",
            " [0.47222222 0.29166667 0.69491525 0.625     ]\n",
            " [0.30555556 0.41666667 0.59322034 0.58333333]\n",
            " [0.47222222 0.58333333 0.59322034 0.625     ]\n",
            " [0.66666667 0.45833333 0.62711864 0.58333333]\n",
            " [0.55555556 0.125      0.57627119 0.5       ]\n",
            " [0.36111111 0.41666667 0.52542373 0.5       ]\n",
            " [0.33333333 0.20833333 0.50847458 0.5       ]\n",
            " [0.33333333 0.25       0.57627119 0.45833333]\n",
            " [0.5        0.41666667 0.61016949 0.54166667]\n",
            " [0.41666667 0.25       0.50847458 0.45833333]\n",
            " [0.19444444 0.125      0.38983051 0.375     ]\n",
            " [0.36111111 0.29166667 0.54237288 0.5       ]\n",
            " [0.38888889 0.41666667 0.54237288 0.45833333]\n",
            " [0.38888889 0.375      0.54237288 0.5       ]\n",
            " [0.52777778 0.375      0.55932203 0.5       ]\n",
            " [0.22222222 0.20833333 0.33898305 0.41666667]\n",
            " [0.38888889 0.33333333 0.52542373 0.5       ]\n",
            " [0.55555556 0.54166667 0.84745763 1.        ]\n",
            " [0.41666667 0.29166667 0.69491525 0.75      ]\n",
            " [0.77777778 0.41666667 0.83050847 0.83333333]\n",
            " [0.55555556 0.375      0.77966102 0.70833333]\n",
            " [0.61111111 0.41666667 0.81355932 0.875     ]\n",
            " [0.91666667 0.41666667 0.94915254 0.83333333]\n",
            " [0.16666667 0.20833333 0.59322034 0.66666667]\n",
            " [0.83333333 0.375      0.89830508 0.70833333]\n",
            " [0.66666667 0.20833333 0.81355932 0.70833333]\n",
            " [0.80555556 0.66666667 0.86440678 1.        ]\n",
            " [0.61111111 0.5        0.69491525 0.79166667]\n",
            " [0.58333333 0.29166667 0.72881356 0.75      ]\n",
            " [0.69444444 0.41666667 0.76271186 0.83333333]\n",
            " [0.38888889 0.20833333 0.6779661  0.79166667]\n",
            " [0.41666667 0.33333333 0.69491525 0.95833333]\n",
            " [0.58333333 0.5        0.72881356 0.91666667]\n",
            " [0.61111111 0.41666667 0.76271186 0.70833333]\n",
            " [0.94444444 0.75       0.96610169 0.875     ]\n",
            " [0.94444444 0.25       1.         0.91666667]\n",
            " [0.47222222 0.08333333 0.6779661  0.58333333]\n",
            " [0.72222222 0.5        0.79661017 0.91666667]\n",
            " [0.36111111 0.33333333 0.66101695 0.79166667]\n",
            " [0.94444444 0.33333333 0.96610169 0.79166667]\n",
            " [0.55555556 0.29166667 0.66101695 0.70833333]\n",
            " [0.66666667 0.54166667 0.79661017 0.83333333]\n",
            " [0.80555556 0.5        0.84745763 0.70833333]\n",
            " [0.52777778 0.33333333 0.6440678  0.70833333]\n",
            " [0.5        0.41666667 0.66101695 0.70833333]\n",
            " [0.58333333 0.33333333 0.77966102 0.83333333]\n",
            " [0.80555556 0.41666667 0.81355932 0.625     ]\n",
            " [0.86111111 0.33333333 0.86440678 0.75      ]\n",
            " [1.         0.75       0.91525424 0.79166667]\n",
            " [0.58333333 0.33333333 0.77966102 0.875     ]\n",
            " [0.55555556 0.33333333 0.69491525 0.58333333]\n",
            " [0.5        0.25       0.77966102 0.54166667]\n",
            " [0.94444444 0.41666667 0.86440678 0.91666667]\n",
            " [0.55555556 0.58333333 0.77966102 0.95833333]\n",
            " [0.58333333 0.45833333 0.76271186 0.70833333]\n",
            " [0.47222222 0.41666667 0.6440678  0.70833333]\n",
            " [0.72222222 0.45833333 0.74576271 0.83333333]\n",
            " [0.66666667 0.45833333 0.77966102 0.95833333]\n",
            " [0.72222222 0.45833333 0.69491525 0.91666667]\n",
            " [0.41666667 0.29166667 0.69491525 0.75      ]\n",
            " [0.69444444 0.5        0.83050847 0.91666667]\n",
            " [0.66666667 0.54166667 0.79661017 1.        ]\n",
            " [0.66666667 0.41666667 0.71186441 0.91666667]\n",
            " [0.55555556 0.20833333 0.6779661  0.75      ]\n",
            " [0.61111111 0.41666667 0.71186441 0.79166667]\n",
            " [0.52777778 0.58333333 0.74576271 0.91666667]\n",
            " [0.44444444 0.41666667 0.69491525 0.70833333]]\n"
          ]
        }
      ]
    },
    {
      "cell_type": "code",
      "source": [
        "def enhanced_feature_map(data_point, data_point2):\n",
        "  n_qubits = num_attributes = len(data_point)\n",
        "  qr = QuantumRegister(n_qubits)\n",
        "  cr = ClassicalRegister(n_qubits)\n",
        "  qc = QuantumCircuit(qr, cr)\n",
        "\n",
        "  #constructing U(x)\n",
        "  for i in range(n_qubits):\n",
        "    qc.h(qr[i])\n",
        "    qc.rz(2 * data_point[i], qr[i])\n",
        "    qc.ry(2 * data_point[i], qr[i])\n",
        "\n",
        "  qc.barrier()\n",
        "\n",
        "  for i in range(n_qubits - 1):\n",
        "    qc.cx(qr[i], qr[i + 1])\n",
        "\n",
        "  qc.barrier()\n",
        "\n",
        "  for i in range(n_qubits):\n",
        "    qc.rz(2 * data_point[i], qr[i])\n",
        "\n",
        "  qc.barrier()\n",
        "\n",
        "  #constructing U-dagger(X-prime)\n",
        "  for i in range(n_qubits):\n",
        "    qc.rz(-2 * data_point2[i], qr[i])\n",
        "\n",
        "  qc.barrier()\n",
        "\n",
        "  for i in range(n_qubits - 1):\n",
        "    qc.cx(qr[n_qubits - 2 - i], qr[n_qubits - 1 - i])\n",
        "\n",
        "  qc.barrier()\n",
        "  for i in range(n_qubits):\n",
        "    qc.ry(-2 * data_point2[i], qr[i])\n",
        "    qc.rz(-2 * data_point2[i], qr[i])\n",
        "    qc.h(qr[i])\n",
        "    qc.measure(qr[i], cr[i])\n",
        "\n",
        "  qc.barrier()\n",
        "\n",
        "  return qc"
      ],
      "metadata": {
        "id": "MUZh1UyqXgec"
      },
      "execution_count": 8,
      "outputs": []
    },
    {
      "cell_type": "code",
      "source": [
        "data_point = features[123]\n",
        "data_point2 = features[55]\n",
        "qc = enhanced_feature_map(data_point, data_point2)\n",
        "qc.draw('mpl')"
      ],
      "metadata": {
        "colab": {
          "base_uri": "https://localhost:8080/",
          "height": 365
        },
        "id": "GQt3hyKDaAXQ",
        "outputId": "0f561e89-edb7-4d64-f198-433e0f7f682f"
      },
      "execution_count": 9,
      "outputs": [
        {
          "output_type": "execute_result",
          "data": {
            "text/plain": [
              "<Figure size 2145.17x451.5 with 1 Axes>"
            ],
            "image/png": "[encoded data removed]"
          },
          "metadata": {},
          "execution_count": 9
        }
      ]
    },
    {
      "cell_type": "code",
      "source": [
        "backend = Aer.get_backend('qasm_simulator')\n",
        "job = backend.run(qc)\n",
        "job.result().get_counts()"
      ],
      "metadata": {
        "colab": {
          "base_uri": "https://localhost:8080/"
        },
        "id": "fvAM4rvmchKd",
        "outputId": "efacd2c3-3cfe-4323-dee5-c4701d935671"
      },
      "execution_count": 10,
      "outputs": [
        {
          "output_type": "execute_result",
          "data": {
            "text/plain": [
              "{'1101': 4,\n",
              " '0100': 6,\n",
              " '1010': 1,\n",
              " '1011': 4,\n",
              " '1110': 11,\n",
              " '1001': 10,\n",
              " '1100': 3,\n",
              " '1000': 33,\n",
              " '0000': 817,\n",
              " '1111': 18,\n",
              " '0001': 117}"
            ]
          },
          "metadata": {},
          "execution_count": 10
        }
      ]
    },
    {
      "cell_type": "code",
      "source": [
        "species = []\n",
        "\n",
        "for i in range(len(iris['target'])):\n",
        "    if iris['target'][i] == 0:\n",
        "        species.append(\"setosa\")\n",
        "    elif iris['target'][i] == 1:\n",
        "        species.append('versicolor')\n",
        "    else:\n",
        "        species.append('virginica')\n",
        "\n",
        "\n",
        "iris['species'] = species\n",
        "print(iris)\n",
        "\n",
        "# print 123'rd element\n",
        "print(iris.iloc[123])"
      ],
      "metadata": {
        "colab": {
          "base_uri": "https://localhost:8080/"
        },
        "id": "wBq-XrdYfJg5",
        "outputId": "ee3a2d4b-aae4-4873-9c22-d8b431436d29"
      },
      "execution_count": 11,
      "outputs": [
        {
          "output_type": "stream",
          "name": "stdout",
          "text": [
            "     sepal length (cm)  sepal width (cm)  petal length (cm)  petal width (cm)  \\\n",
            "0                  5.1               3.5                1.4               0.2   \n",
            "1                  4.9               3.0                1.4               0.2   \n",
            "2                  4.7               3.2                1.3               0.2   \n",
            "3                  4.6               3.1                1.5               0.2   \n",
            "4                  5.0               3.6                1.4               0.2   \n",
            "..                 ...               ...                ...               ...   \n",
            "145                6.7               3.0                5.2               2.3   \n",
            "146                6.3               2.5                5.0               1.9   \n",
            "147                6.5               3.0                5.2               2.0   \n",
            "148                6.2               3.4                5.4               2.3   \n",
            "149                5.9               3.0                5.1               1.8   \n",
            "\n",
            "     target    species  \n",
            "0       0.0     setosa  \n",
            "1       0.0     setosa  \n",
            "2       0.0     setosa  \n",
            "3       0.0     setosa  \n",
            "4       0.0     setosa  \n",
            "..      ...        ...  \n",
            "145     2.0  virginica  \n",
            "146     2.0  virginica  \n",
            "147     2.0  virginica  \n",
            "148     2.0  virginica  \n",
            "149     2.0  virginica  \n",
            "\n",
            "[150 rows x 6 columns]\n",
            "sepal length (cm)          6.3\n",
            "sepal width (cm)           2.7\n",
            "petal length (cm)          4.9\n",
            "petal width (cm)           1.8\n",
            "target                     2.0\n",
            "species              virginica\n",
            "Name: 123, dtype: object\n"
          ]
        }
      ]
    },
    {
      "cell_type": "code",
      "source": [
        "def feature_map(data_point):\n",
        "  # encode a NEW circuit for a given datapoint.\n",
        "  n_qubits = len(data_point)\n",
        "  qr = QuantumRegister(n_qubits)\n",
        "  cr = ClassicalRegister(n_qubits)\n",
        "  qc = QuantumCircuit(qr, cr)\n",
        "\n",
        "  for i in range(n_qubits):\n",
        "    qc.h(qr[i])\n",
        "\n",
        "  qc.barrier()\n",
        "\n",
        "  for i in range(n_qubits):\n",
        "    # set the rotation angle based on this current data.\n",
        "    constant = 2 * data_point[i]\n",
        "    qc.rx(constant * np.pi, qr[i])\n",
        "\n",
        "  qc.barrier()\n",
        "\n",
        "  for i in range(n_qubits - 1):\n",
        "    qc.cx(qr[i], qr[i + 1])\n",
        "\n",
        "  qc.draw('mpl')\n",
        "\n",
        "  return qc"
      ],
      "metadata": {
        "id": "YRmW1L1eR1jP"
      },
      "execution_count": 12,
      "outputs": []
    },
    {
      "cell_type": "code",
      "source": [
        "def test_set(curr_set, data_point):\n",
        "  pr = []\n",
        "  for i, r in curr_set.iterrows():\n",
        "    backend = Aer.get_backend('statevector_simulator')\n",
        "    qc = enhanced_feature_map(data_point, features[i])\n",
        "    job = backend.run(qc)\n",
        "    result = job.result()\n",
        "    statevector = result.get_statevector()\n",
        "    pr.append(np.abs(statevector[0])**2)\n",
        "\n",
        "  # return mean of pr\n",
        "  return np.mean(pr)"
      ],
      "metadata": {
        "id": "IXo8fhosEGoU"
      },
      "execution_count": 13,
      "outputs": []
    },
    {
      "cell_type": "code",
      "source": [
        "def get_accuracies(setosa, versicolor, virginica):\n",
        "    # Define the correct ranges\n",
        "    setosa_correct = set(range(20, 50))  # Correct range for setosa\n",
        "    versicolor_correct = set(range(70, 100))  # Correct range for versicolor\n",
        "    virginica_correct = set(range(130, 150))  # Correct for virginica\n",
        "\n",
        "    setosa_actual = set(setosa)\n",
        "    versicolor_actual = set(versicolor)\n",
        "    virginica_actual = set(virginica)\n",
        "\n",
        "    # Count missing points (those that should be in the set but are not)\n",
        "    setosa_missing = len(setosa_correct - setosa_actual)\n",
        "    versicolor_missing = len(versicolor_correct - versicolor_actual)\n",
        "    virginica_missing = len(virginica_correct - virginica_actual)\n",
        "\n",
        "    # Total classification errors\n",
        "    total_errors =  setosa_missing + versicolor_missing + virginica_missing\n",
        "\n",
        "    # Print detailed results\n",
        "    print(f\"Total classification errors: {total_errors}\")\n",
        "    final_correct = (90 - total_errors) / 90 * 100\n",
        "    print(f\"Classification Overall: {final_correct}%\")\n",
        "    return final_correct\n"
      ],
      "metadata": {
        "id": "QdoHwwkrOMXv"
      },
      "execution_count": 14,
      "outputs": []
    },
    {
      "cell_type": "code",
      "source": [
        "def custom_tester():\n",
        "  trained_setosa = []\n",
        "  trained_versicolor = []\n",
        "  trained_virginica = []\n",
        "\n",
        "  setosa_set = iris[0:19] # setosa\n",
        "  versicolor_set = iris[50:69] # versicolor\n",
        "  virginica_set = iris[100:119] # virginica\n",
        "  set_len = 3\n",
        "  test_len = 30\n",
        "  train_len = 20\n",
        "\n",
        "  for i in range(set_len):\n",
        "    for j in range(test_len):\n",
        "      point = i * 50 + 20 + j\n",
        "      data_point = features[point]\n",
        "      pr_setosa = test_set(setosa_set, data_point)\n",
        "      pr_versicolor = test_set(versicolor_set, data_point)\n",
        "      pr_virginica = test_set(virginica_set, data_point)\n",
        "      print(f\"probabilities for point {point} are {pr_setosa}, {pr_versicolor} and {pr_virginica}\")\n",
        "\n",
        "      # choose the maximum between all 3\n",
        "      max_pr = max(pr_setosa, pr_versicolor, pr_virginica)\n",
        "      if max_pr == pr_setosa:\n",
        "        trained_setosa.append(point)\n",
        "      elif max_pr == pr_versicolor:\n",
        "        trained_versicolor.append(point)\n",
        "      else:\n",
        "        trained_virginica.append(point)\n",
        "\n",
        "  print(f\"trained setosa: {trained_setosa}\")\n",
        "  print(f\"trained versicolor: {trained_versicolor}\")\n",
        "  print(f\"trained virginica: {trained_virginica}\")\n",
        "\n",
        "  get_accuracies(trained_setosa, trained_versicolor, trained_virginica)\n"
      ],
      "metadata": {
        "id": "3KATF3ywqHHf"
      },
      "execution_count": 15,
      "outputs": []
    },
    {
      "cell_type": "code",
      "source": [
        "custom_tester()"
      ],
      "metadata": {
        "id": "Jt4uuqnUqk4S",
        "colab": {
          "base_uri": "https://localhost:8080/"
        },
        "outputId": "fe4028b6-cdbd-461b-9969-722b9183fbed"
      },
      "execution_count": 16,
      "outputs": [
        {
          "output_type": "stream",
          "name": "stdout",
          "text": [
            "probabilities for point 20 are 0.8947368421052632, 0.21052631578947373 and 0.052631578947368446\n",
            "probabilities for point 21 are 0.8421052631578947, 0.0 and 0.15789473684210525\n",
            "probabilities for point 22 are 0.8421052631578947, 0.05263157894736842 and 0.0\n",
            "probabilities for point 23 are 0.7894736842105263, 0.15789473684210525 and 0.05263157894736841\n",
            "probabilities for point 24 are 0.8947368421052634, 0.3157894736842105 and 0.0\n",
            "probabilities for point 25 are 0.8421052631578947, 0.10526315789473684 and 0.15789473684210525\n",
            "probabilities for point 26 are 0.9473684210526315, 0.2631578947368421 and 0.1578947368421053\n",
            "probabilities for point 27 are 0.9473684210526315, 0.3157894736842105 and 0.05263157894736842\n",
            "probabilities for point 28 are 0.8421052631578947, 0.21052631578947367 and 0.10526315789473684\n",
            "probabilities for point 29 are 0.8421052631578947, 0.15789473684210523 and 0.15789473684210525\n",
            "probabilities for point 30 are 0.736842105263158, 0.26315789473684215 and 0.0\n",
            "probabilities for point 31 are 0.8947368421052632, 0.3684210526315789 and 0.10526315789473682\n",
            "probabilities for point 32 are 0.7894736842105263, 0.05263157894736842 and 0.0\n",
            "probabilities for point 33 are 0.7368421052631579, 0.21052631578947367 and 0.10526315789473684\n",
            "probabilities for point 34 are 0.9473684210526315, 0.26315789473684215 and 0.15789473684210525\n",
            "probabilities for point 35 are 0.736842105263158, 0.10526315789473686 and 0.0\n",
            "probabilities for point 36 are 0.8421052631578947, 0.36842105263157904 and 0.05263157894736842\n",
            "probabilities for point 37 are 0.9473684210526315, 0.2631578947368421 and 0.05263157894736841\n",
            "probabilities for point 38 are 0.8421052631578949, 0.10526315789473684 and 0.0\n",
            "probabilities for point 39 are 1.0, 0.3684210526315789 and 0.10526315789473684\n",
            "probabilities for point 40 are 0.9473684210526315, 0.05263157894736842 and 0.0\n",
            "probabilities for point 41 are 0.8421052631578947, 0.2631578947368421 and 0.0\n",
            "probabilities for point 42 are 0.631578947368421, 0.05263157894736842 and 0.0\n",
            "probabilities for point 43 are 0.631578947368421, 0.21052631578947367 and 0.052631578947368446\n",
            "probabilities for point 44 are 0.8947368421052632, 0.21052631578947367 and 0.05263157894736842\n",
            "probabilities for point 45 are 0.8947368421052632, 0.2631578947368421 and 0.05263157894736841\n",
            "probabilities for point 46 are 0.7894736842105264, 0.15789473684210525 and 0.0\n",
            "probabilities for point 47 are 0.9473684210526315, 0.0 and 0.0\n",
            "probabilities for point 48 are 0.8947368421052632, 0.0 and 0.10526315789473686\n",
            "probabilities for point 49 are 0.8947368421052632, 0.21052631578947367 and 0.10526315789473684\n",
            "probabilities for point 70 are 0.15789473684210525, 0.7894736842105263 and 0.5789473684210528\n",
            "probabilities for point 71 are 0.15789473684210525, 1.0 and 0.5789473684210527\n",
            "probabilities for point 72 are 0.0, 0.7894736842105263 and 0.631578947368421\n",
            "probabilities for point 73 are 0.21052631578947367, 0.7894736842105263 and 0.631578947368421\n",
            "probabilities for point 74 are 0.0, 0.8421052631578947 and 0.6842105263157895\n",
            "probabilities for point 75 are 0.10526315789473684, 0.7894736842105263 and 0.6842105263157895\n",
            "probabilities for point 76 are 0.10526315789473684, 0.6842105263157895 and 0.6842105263157895\n",
            "probabilities for point 77 are 0.0, 0.7368421052631579 and 0.8421052631578947\n",
            "probabilities for point 78 are 0.10526315789473686, 0.7894736842105263 and 0.7368421052631579\n",
            "probabilities for point 79 are 0.10526315789473684, 0.6842105263157895 and 0.4736842105263157\n",
            "probabilities for point 80 are 0.4210526315789473, 0.6842105263157895 and 0.26315789473684204\n",
            "probabilities for point 81 are 0.3684210526315789, 0.8421052631578947 and 0.21052631578947367\n",
            "probabilities for point 82 are 0.21052631578947367, 0.6842105263157894 and 0.631578947368421\n",
            "probabilities for point 83 are 0.15789473684210525, 0.7368421052631579 and 0.7368421052631579\n",
            "probabilities for point 84 are 0.21052631578947367, 0.8947368421052632 and 0.42105263157894735\n",
            "probabilities for point 85 are 0.21052631578947367, 0.8947368421052632 and 0.8421052631578947\n",
            "probabilities for point 86 are 0.15789473684210523, 0.8421052631578947 and 0.7368421052631579\n",
            "probabilities for point 87 are 0.21052631578947378, 0.7894736842105263 and 0.47368421052631576\n",
            "probabilities for point 88 are 0.15789473684210525, 0.631578947368421 and 0.47368421052631576\n",
            "probabilities for point 89 are 0.05263157894736842, 0.8947368421052632 and 0.42105263157894735\n",
            "probabilities for point 90 are 0.15789473684210525, 0.8421052631578947 and 0.5263157894736842\n",
            "probabilities for point 91 are 0.10526315789473684, 0.8421052631578947 and 0.631578947368421\n",
            "probabilities for point 92 are 0.3157894736842105, 0.8421052631578947 and 0.631578947368421\n",
            "probabilities for point 93 are 0.3157894736842105, 0.631578947368421 and 0.15789473684210523\n",
            "probabilities for point 94 are 0.21052631578947367, 0.9473684210526315 and 0.631578947368421\n",
            "probabilities for point 95 are 0.10526315789473686, 0.8421052631578947 and 0.631578947368421\n",
            "probabilities for point 96 are 0.15789473684210525, 0.8947368421052632 and 0.5263157894736842\n",
            "probabilities for point 97 are 0.052631578947368446, 0.8947368421052629 and 0.5263157894736842\n",
            "probabilities for point 98 are 0.42105263157894735, 0.5263157894736842 and 0.10526315789473682\n",
            "probabilities for point 99 are 0.3157894736842105, 0.8947368421052632 and 0.47368421052631576\n",
            "probabilities for point 120 are 0.0, 0.631578947368421 and 0.7894736842105263\n",
            "probabilities for point 121 are 0.05263157894736842, 0.7894736842105263 and 0.7368421052631579\n",
            "probabilities for point 122 are 0.05263157894736838, 0.21052631578947367 and 0.631578947368421\n",
            "probabilities for point 123 are 0.052631578947368446, 0.8421052631578947 and 0.7894736842105263\n",
            "probabilities for point 124 are 0.0, 0.631578947368421 and 0.7894736842105263\n",
            "probabilities for point 125 are 0.0, 0.5263157894736842 and 0.8947368421052632\n",
            "probabilities for point 126 are 0.0526315789473684, 0.7368421052631579 and 0.6842105263157896\n",
            "probabilities for point 127 are 0.05263157894736842, 0.7368421052631579 and 0.5789473684210527\n",
            "probabilities for point 128 are 0.10526315789473682, 0.5789473684210527 and 0.8421052631578947\n",
            "probabilities for point 129 are 0.0, 0.8421052631578947 and 0.8421052631578947\n",
            "probabilities for point 130 are 0.0, 0.5789473684210527 and 0.631578947368421\n",
            "probabilities for point 131 are 0.05263157894736841, 0.42105263157894735 and 0.47368421052631576\n",
            "probabilities for point 132 are 0.05263157894736842, 0.631578947368421 and 0.8947368421052632\n",
            "probabilities for point 133 are 0.05263157894736842, 0.7894736842105263 and 0.7368421052631579\n",
            "probabilities for point 134 are 0.05263157894736842, 0.5789473684210527 and 0.631578947368421\n",
            "probabilities for point 135 are 0.0, 0.4736842105263159 and 0.7894736842105263\n",
            "probabilities for point 136 are 0.0, 0.4736842105263157 and 0.7894736842105263\n",
            "probabilities for point 137 are 0.05263157894736842, 0.7368421052631579 and 0.8421052631578947\n",
            "probabilities for point 138 are 0.15789473684210525, 0.7368421052631579 and 0.7894736842105262\n",
            "probabilities for point 139 are 0.0, 0.6842105263157895 and 0.7368421052631579\n",
            "probabilities for point 140 are 0.0, 0.31578947368421056 and 0.8947368421052632\n",
            "probabilities for point 141 are 0.0, 0.631578947368421 and 0.8421052631578947\n",
            "probabilities for point 142 are 0.10526315789473684, 0.7894736842105263 and 0.6842105263157894\n",
            "probabilities for point 143 are 0.0, 0.47368421052631576 and 0.9473684210526315\n",
            "probabilities for point 144 are 0.0, 0.42105263157894735 and 0.9473684210526315\n",
            "probabilities for point 145 are 0.0, 0.5263157894736842 and 0.6842105263157895\n",
            "probabilities for point 146 are 0.05263157894736842, 0.6842105263157895 and 0.8421052631578947\n",
            "probabilities for point 147 are 0.05263157894736842, 0.7894736842105263 and 0.8421052631578947\n",
            "probabilities for point 148 are 0.052631578947368446, 0.5789473684210527 and 0.631578947368421\n",
            "probabilities for point 149 are 0.10526315789473689, 0.7894736842105263 and 0.6842105263157895\n",
            "trained setosa: [20, 21, 22, 23, 24, 25, 26, 27, 28, 29, 30, 31, 32, 33, 34, 35, 36, 37, 38, 39, 40, 41, 42, 43, 44, 45, 46, 47, 48, 49]\n",
            "trained versicolor: [70, 71, 72, 73, 74, 75, 76, 78, 79, 80, 81, 82, 83, 84, 85, 86, 87, 88, 89, 90, 91, 92, 93, 94, 95, 96, 97, 98, 99, 121, 123, 126, 127, 129, 133, 142, 149]\n",
            "trained virginica: [77, 120, 122, 124, 125, 128, 130, 131, 132, 134, 135, 136, 137, 138, 139, 140, 141, 143, 144, 145, 146, 147, 148]\n",
            "Total classification errors: 4\n",
            "Classification Overall: 95.55555555555556%\n"
          ]
        }
      ]
    },
    {
      "cell_type": "code",
      "source": [
        "# a classical test!\n",
        "from sklearn import datasets\n",
        "from sklearn.svm import SVC\n",
        "from sklearn.model_selection import train_test_split\n",
        "from sklearn.metrics import accuracy_score\n",
        "\n",
        "# Load the Iris dataset\n",
        "iris = datasets.load_iris()\n",
        "X, y = iris.data, iris.target\n",
        "X_train, X_test, y_train, y_test = train_test_split(X, y, test_size=0.8)\n",
        "\n",
        "kernels = ['linear', 'poly', 'rbf']\n",
        "for kernel in kernels:\n",
        "    svm = SVC(kernel=kernel)\n",
        "    svm.fit(X_train, y_train)\n",
        "    y_pred = svm.predict(X_test)\n",
        "\n",
        "    # get accurary\n",
        "    accuracy = accuracy_score(y_test, y_pred) * 100\n",
        "    print(f\"Kernel: {kernel}, Accuracy: {accuracy} %\")"
      ],
      "metadata": {
        "id": "cqxFvqilrHy9",
        "colab": {
          "base_uri": "https://localhost:8080/"
        },
        "outputId": "7ec40218-ebeb-4331-fddb-798c555eb961"
      },
      "execution_count": 24,
      "outputs": [
        {
          "output_type": "stream",
          "name": "stdout",
          "text": [
            "Kernel: linear, Accuracy: 94.16666666666667 %\n",
            "Kernel: poly, Accuracy: 95.83333333333334 %\n",
            "Kernel: rbf, Accuracy: 80.83333333333333 %\n"
          ]
        }
      ]
    }
  ]
}